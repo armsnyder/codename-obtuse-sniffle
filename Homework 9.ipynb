{
 "cells": [
  {
   "cell_type": "markdown",
   "metadata": {},
   "source": [
    "# EECS 349 (Machine Learning) Homework 9\n",
    "\n",
    "## How to submit your homework\n",
    "\n",
    "1. Create a PDF document containing answers to the homework questions\n",
    "2. Include source code for the program you write\n",
    "2. If working with a partner, clearly state who you're working with **at the top of the PDF document**.\n",
    "3. Compress all of the files specified into a .zip file\n",
    "4. Name the file in the following manner, firstname_lastname_hw9.zip.\n",
    "5. Submit this .zip file via Canvas by the date specified on Canvas\n",
    "\n",
    "In this homework, you will work on your own **or in pairs** to complete a classification task on a dataset of handwritten digits. The dataset is included with this submission, and you can read more about it here: http://yann.lecun.com/exdb/mnist/ and you can read a paper that might help quite a bit here: http://yann.lecun.com/exdb/publis/pdf/lecun-98.pdf. You also have to install scikit-learn, a machine learning library for Python, to answer questions in this homework: http://scikit-learn.org/stable/index.html"
   ]
  },
  {
   "cell_type": "markdown",
   "metadata": {},
   "source": [
    "## Reading the MNIST data\n",
    "We have given a helper file \"mnist.py\" (thanks to http://g.sweyla.com/blog/2012/mnist-numpy/) that you can use to read in the data as follows:"
   ]
  },
  {
   "cell_type": "code",
   "execution_count": 1,
   "metadata": {
    "collapsed": false
   },
   "outputs": [
    {
     "data": {
      "image/png": "[encoded data removed]",
      "text/plain": [
       "<matplotlib.figure.Figure at 0x1053c9e90>"
      ]
     },
     "metadata": {},
     "output_type": "display_data"
    }
   ],
   "source": [
    "import matplotlib.pyplot as plt\n",
    "import numpy as np\n",
    "from mnist import load_mnist\n",
    "%matplotlib inline\n",
    "\n",
    "images, labels = load_mnist(digits=[9], path='.')\n",
    "#Displaying the mean image for digit 9.\n",
    "plt.imshow(images.mean(axis=0), cmap = 'gray')\n",
    "plt.show()"
   ]
  },
  {
   "cell_type": "markdown",
   "metadata": {},
   "source": [
    "That is what 9, when handwritten, looks like on average. Changing the digits argument to a list would give you all the images that match the labels in the list (e.g. digits = [0, 1, 2] would give you all the 0s, 1s, and 2s in MNIST). Setting path = '.' makes it look for the MNIST data in the current directory."
   ]
  },
  {
   "cell_type": "markdown",
   "metadata": {},
   "source": [
    "# *1) Exploring the data (2 points)*"
   ]
  },
  {
   "cell_type": "markdown",
   "metadata": {},
   "source": [
    "To load the entire dataset, run the following:"
   ]
  },
  {
   "cell_type": "code",
   "execution_count": 2,
   "metadata": {
    "collapsed": false
   },
   "outputs": [],
   "source": [
    "images, labels = load_mnist(digits=range(0, 10), path='.')"
   ]
  },
  {
   "cell_type": "markdown",
   "metadata": {},
   "source": [
    "Here each image[i] is a single handwritten image of the label[i]. For example, here's image[35], and it's label:"
   ]
  },
  {
   "cell_type": "code",
   "execution_count": 3,
   "metadata": {
    "collapsed": false
   },
   "outputs": [
    {
     "data": {
      "image/png": "[encoded data removed]",
      "text/plain": [
       "<matplotlib.figure.Figure at 0x11008a3d0>"
      ]
     },
     "metadata": {},
     "output_type": "display_data"
    }
   ],
   "source": [
    "i = 35\n",
    "plt.imshow(images[i], cmap = 'gray')\n",
    "plt.title('Handwritten image of the digit ' + str(labels[i]))\n",
    "plt.show()"
   ]
  },
  {
   "cell_type": "markdown",
   "metadata": {},
   "source": [
    "It's a 5!\n",
    "\n",
    "From this large dataset, you'll want to pick training and testing sets to build classifiers. To do this carefully, you'll need to study the dataset. Answer the following questions:\n",
    "\n",
    "**A. (0.5 pt)** How many images are there in total? How many images are there of each digit?\n",
    "\n",
    "**B. (0.5 pt)** Look at 50 examples of one of the digits. Show us some of the cases that you think might be challenging to be recognized by a classifeir. Why do you think they may be challenging?\n",
    "\n",
    "**C. (0.5 pt)** You need to pick some subset of the data for training and testing. Pick a set of training and testing data. State how you selected your training and testing sets. Think about the goals of training and testing sets - we pick good training sets so our classifier generalizes to unseen data and we pick good testing sets to see whether our classifier generalizes. Justify your method for selecting the training and testing sets in terms of these goals.\n",
    "\n",
    "**D. (0.5 pt)** Here's a quote from the paper about the construction of the dataset:\n",
    "\n",
    ">The original black and white (bilevel) images were sized normalized to fit in a 20x20 pixel box while preserving their aspect ratio. The resulting images contain grey levels as result of the anti-aliasing (image interpolation) technique used by the normalization algorithm. Three versions of the database were used. In the first version, the images were centered in a 28x28 image by computing the center of mass of the pixels, and translating the image so as to position this point at the center of the 28x28 field.\n",
    "\n",
    "What is the advantage of making the dataset consistent along these dimensions for the purposes of classification (scale, rotation, center-point, etc)? What does it tell you about what the classifier actually learned?\n"
   ]
  },
  {
   "cell_type": "markdown",
   "metadata": {},
   "source": [
    "# *2) Algorithm Selection (1 points)*\n",
    "\n",
    "Each classifier in scikit-learn has associated with it many hyperparameters (e.g. number of neighbors in KNN). The goal of this assignment is to understand the effect that these hyperparameters have on performance as well as how different classifiers compare to one another.\n",
    "\n",
    "You'll build two classifiers on the MNIST data. You must use scikit-learn to build these classifiers (http://scikit-learn.org/stable/). A page of particular note is: http://scikit-learn.org/stable/supervised_learning.html#supervised-learning.\n",
    "\n",
    "Two different classifiers does not mean two different variants of a classifier. For example, two KNNs with two different K values are not different. Pick two different classification algorithms (e.g. SVM and Decision Tree).\n",
    "\n",
    "Pick two classification algorithms you can use in the scikit-learn library. **For each classification algorithm**, do the following:\n",
    "\n",
    "**A. (.5 pt)** At a high level (e.g. a paragraph or two), summarize how the algorithm works and how to use it for classification of images (e.g. how you would encode the data, how you would interpret the output of the classifier).\n",
    "\n",
    "**B. (.5 pt)** For each hyperparameter of the algorithm (e.g. slack in an SVM, or K in a KNN), explain what it varies about the classification algorithm."
   ]
  },
  {
   "cell_type": "markdown",
   "metadata": {},
   "source": [
    "# *3) Classification (part 1) (3 points)*\n",
    "\n",
    "Now that you've selected two classifiers, you will build, train and test each one. Pick one of the two classifiers chosen in problem 2 and do the following."
   ]
  },
  {
   "cell_type": "markdown",
   "metadata": {},
   "source": [
    "**A. (1 pt)** Build a classifier on your training and testing set. Complete the following starter code (see below) named **classification_1.py**. Read all comments in the code carefully.\n",
    "\n",
    "You need to submit 4 files for this question: \n",
    "- classifier_1.py\n",
    "- classifier_1.p (model file)\n",
    "- training_set_1.p\n",
    "- training_labels_1.p"
   ]
  },
  {
   "cell_type": "markdown",
   "metadata": {},
   "source": [
    "**B. (1 pt)** Design, explain, and perform experiments to find the best hyperparameters for your classifier. Show the following graphs illustrating classification performance along two dimensions: \n",
    "1. Training set size vs performance on a testing set\n",
    "2. Classifier parameters (e.g. number of neighbors in KNN) vs performance on a testing set\n",
    "Describe and analyzise your result.\n",
    "3. Show us a confusion matrix for the data.\n",
    "Be sure to label your dimensions clearly on all graphs.\n",
    "\n",
    "**C. (1 pt)** Visualizing misclassifications can sometimes help understand the behavior of a classifier. Report and show a set of images that were misclassified and how it affects your understanding of the behavior of the classifier, or the dataset. How does this relate to the images you thought might be challenging in the section \"Exploring the dataset\" above?"
   ]
  },
  {
   "cell_type": "markdown",
   "metadata": {},
   "source": [
    "#### Starter code"
   ]
  },
  {
   "cell_type": "code",
   "execution_count": null,
   "metadata": {
    "collapsed": false
   },
   "outputs": [],
   "source": [
    "import pickle\n",
    "import sklearn\n",
    "from sklearn import svm # this is an example of using SVM\n",
    "\n",
    "def preprocess(images):\n",
    "    #this function is suggested to help build your classifier. \n",
    "    #You might want to do something with the images before \n",
    "    #handing them to the classifier. Right now it does nothing.\n",
    "    return [i.flatten() for i in images]\n",
    "\n",
    "def build_classifier(images, labels):\n",
    "    #this will actually build the classifier. In general, it\n",
    "    #will call something from sklearn to build it, and it must\n",
    "    #return the output of sklearn. Right now it does nothing.\n",
    "    classifier = svm.SVC()\n",
    "    classifier.fit(images, labels)\n",
    "    return classifier\n",
    "\n",
    "##the functions below are required\n",
    "def save_classifier(classifier, training_set, training_labels):\n",
    "    #this saves the classifier to a file \"classifier\" that we will\n",
    "    #load from. It also saves the data that the classifier was trained on.\n",
    "    import pickle\n",
    "    pickle.dump(classifier, open('classifier_1.p', 'w'))\n",
    "    pickle.dump(training_set, open('training_set.p', 'w'))\n",
    "    pickle.dump(training_labels, open('training_labels.p', 'w'))\n",
    "\n",
    "\n",
    "def classify(images, classifier):\n",
    "    #runs the classifier on a set of images. \n",
    "    return classifier.predict(images)\n",
    "\n",
    "def error_measure(predicted, actual):\n",
    "    return np.count_nonzero(abs(predicted - actual))/float(len(predicted))\n",
    "\n",
    "if __name__ == \"__main__\":\n",
    "\n",
    "    # Code for loading data\n",
    "    \n",
    "    # preprocessing\n",
    "    images = preprocess(images)\n",
    "    \n",
    "    # pick training and testing set\n",
    "    # YOU HAVE TO CHANGE THIS TO PICK DIFFERENT SET OF DATA\n",
    "    training_set = images[0:1000]\n",
    "    training_labels = labels[0:1000]\n",
    "    testing_set = images[-100:]\n",
    "    testing_labels = labels[-100:]\n",
    "\n",
    "    #build_classifier is a function that takes in training data and outputs an sklearn classifier.\n",
    "    classifier = build_classifier(training_set, training_labels)\n",
    "    save_classifier(classifier, training_set, training_labels)\n",
    "    classifier = pickle.load(open('classifier'))\n",
    "    predicted = classify(testing_set, classifier)\n",
    "    print error_measure(predicted, testing_labels)"
   ]
  },
  {
   "cell_type": "markdown",
   "metadata": {},
   "source": [
    "# *4) Classification (part 2) (3 points)*\n",
    "\n",
    "### Repeat the same tasks from question 3 with the other classifier you described in question 2.\n",
    "\n",
    "For Part (A), you the code you hand in must be in files with the following names:\n",
    "- classifier_2.py\n",
    "- classifier_2.p (model file)\n",
    "- training_set_2.p\n",
    "- training_labels_2.p"
   ]
  },
  {
   "cell_type": "markdown",
   "metadata": {},
   "source": [
    "# *5) Model comparison (1 points)*\n",
    "\n",
    "Compare your two classifiers. Which classifier performed better? Back up that assertion by citing results from your experiment. Why do you think this classifier has better performance?  "
   ]
  },
  {
   "cell_type": "markdown",
   "metadata": {},
   "source": [
    "### **Following questions are extra credit** \n",
    "# *6) Boosting (3 points)*"
   ]
  },
  {
   "cell_type": "markdown",
   "metadata": {},
   "source": [
    "Boosting is a way to improve classification performance by combining classifiers. Perform the adaboosting algorithm on your training and testing set by using the AdaBoostClassifier function in sckit-learn.\n",
    "\n",
    "Answer the following questions and submit a python script named **boosting.py** that includes two functions, boosting_A( ) and boosting_B( ). Each function takes a training and a testing set and their labels, and returns a confusion matrix. Since we deal with 10 classes (0 - 9), the confusion matrix should be a 10x10 array."
   ]
  },
  {
   "cell_type": "code",
   "execution_count": 4,
   "metadata": {
    "collapsed": true
   },
   "outputs": [],
   "source": [
    "def boosting_A(training_set, training_labels, testing_set, testing_labels):\n",
    "    # Build boosting algorithm for question A\n",
    "    # Return confusion matrix\n",
    "    return confusion_matrix\n",
    "\n",
    "def boosting_B(training_set, training_labels, testing_set, testing_labels):\n",
    "    # Build boosting algorithm for question B\n",
    "    # Return confusion matrix\n",
    "    \n",
    "    return confusion_matrix"
   ]
  },
  {
   "cell_type": "markdown",
   "metadata": {},
   "source": [
    "** A. (1 pt)** Try adaboosting with a weak classifer (default classifer of the AdaBoostClassifier function). Provide a confusion matrix. Does the boosting outperform classifers you built in the question 2?\n",
    "\n",
    "** B. (1 pt)** Try adaboosting with an SVM classifier. Before performing boosting, you might need to find best hyperparameters for the SVM first. Provide a confusion matrix. Does the boosted classifier outperform the classifers you built in question 2?\n",
    "\n",
    "** C. (1 pt)** Compare two boosted classifiers, one from **A** and the other from **B**. Which one is better? How did you compare their performances? Show us data."
   ]
  }
 ],
 "metadata": {
  "kernelspec": {
   "display_name": "Python 2",
   "language": "python",
   "name": "python2"
  },
  "language_info": {
   "codemirror_mode": {
    "name": "ipython",
    "version": 2
   },
   "file_extension": ".py",
   "mimetype": "text/x-python",
   "name": "python",
   "nbconvert_exporter": "python",
   "pygments_lexer": "ipython2",
   "version": "2.7.10"
  }
 },
 "nbformat": 4,
 "nbformat_minor": 0
}
